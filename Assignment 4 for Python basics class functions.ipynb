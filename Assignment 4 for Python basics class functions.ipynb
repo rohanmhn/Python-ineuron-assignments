{
 "cells": [
  {
   "cell_type": "code",
   "execution_count": 1,
   "metadata": {},
   "outputs": [],
   "source": [
    "## Assignment for Python basics 4\n",
    "#1.1 Write a Python Program(with class concepts) to find the area of the triangle using the below formula.\n",
    "\"\"\"area = (s*(s-a)*(s-b)*(s-c)) ** 0.5\n",
    "Function to take the length of the sides of triangle from user should be defined in the parent\n",
    "class and function to calculate the area should be defined in subclass.\"\"\""
   ]
  },
  {
   "cell_type": "code",
   "execution_count": null,
   "metadata": {},
   "outputs": [],
   "source": []
  },
  {
   "cell_type": "code",
   "execution_count": null,
   "metadata": {},
   "outputs": [],
   "source": []
  },
  {
   "cell_type": "code",
   "execution_count": 3,
   "metadata": {},
   "outputs": [],
   "source": [
    "class Perimeter:\n",
    "        def __init__(self,a,b,c):\n",
    "            self.a=a\n",
    "            self.b=b\n",
    "            self.c=c\n",
    "        \n",
    "        \n",
    "                                              \n",
    "        def __str__ (self):\n",
    "            return (\"%s %s %s are the length of the 3 sides of the triangle entered by you\" %(self.a, self.b, self.c))\n",
    "\n",
    "class Area(Perimeter):\n",
    "       def Peri(self,*args):\n",
    "            if self.a<0 or self.b<0 or self.c<0:\n",
    "                print(\"you cant enter a negative number.Try again \") \n",
    "                #break                \n",
    "            else:\n",
    "                s=(self.a+self.b+self.c)/2\n",
    "                print(\"perimeter is {}\".format(s*2))\n",
    "            #s=self.a+self.b+self.c #s is Perimeter\n",
    "                area=((s*(s-self.a)*(s-self.b)*(s-self.c))**0.5)\n",
    "                print(\"area of the triangle is {}\".format(area))\n",
    "                #return area \n",
    "                "
   ]
  },
  {
   "cell_type": "code",
   "execution_count": 4,
   "metadata": {},
   "outputs": [
    {
     "name": "stdout",
     "output_type": "stream",
     "text": [
      "4 3 5 are the length of the 3 sides of the triangle entered by you\n",
      "perimeter is 12.0\n",
      "area of the triangle is 6.0\n",
      "None\n"
     ]
    }
   ],
   "source": [
    "tri=Area(4,3,5)\n",
    "print(tri)\n",
    "\n",
    "print(tri.Peri(4,3,5))\n"
   ]
  },
  {
   "cell_type": "code",
   "execution_count": null,
   "metadata": {},
   "outputs": [],
   "source": [
    "# 1.2 Write a function filter_long_words() that takes a list of words and an integer n and returns \n",
    "# the list of words that are longer than n."
   ]
  },
  {
   "cell_type": "code",
   "execution_count": 7,
   "metadata": {},
   "outputs": [],
   "source": [
    "def filter_long_words():\n",
    "    a=input(\" Please enter a list of words \")\n",
    "    b=input(\" Please enter an integer \")\n",
    "    n=int(b)\n",
    "    words2=list(a.split())\n",
    "    print(words2)\n",
    "    for i in range(len(words2)):\n",
    "        if len(words2[i])>n:\n",
    "            print(words2[i])    "
   ]
  },
  {
   "cell_type": "code",
   "execution_count": 8,
   "metadata": {},
   "outputs": [
    {
     "name": "stdout",
     "output_type": "stream",
     "text": [
      " Please enter a list of words my name is rohan\n",
      " Please enter an integer 3\n",
      "['my', 'name', 'is', 'rohan']\n",
      "name\n",
      "rohan\n"
     ]
    }
   ],
   "source": [
    "filter_long_words()"
   ]
  },
  {
   "cell_type": "code",
   "execution_count": 26,
   "metadata": {},
   "outputs": [
    {
     "name": "stdout",
     "output_type": "stream",
     "text": [
      "['my', 'name', 'is', 'bmrohan']\n",
      "[['my'], ['name'], ['is'], ['bmrohan']]\n",
      "4\n",
      "my\n",
      "name\n",
      "is\n",
      "bmrohan\n"
     ]
    }
   ],
   "source": [
    "string=\"my name is bmrohan\"\n",
    "words=(string.split())\n",
    "wordno=list(words)\n",
    "print(wordno)\n",
    "lettersss= []\n",
    "for word in wordno:\n",
    "    lettersss.append([word])\n",
    "print(lettersss)\n",
    "print(len(lettersss))\n",
    "for i in range(len(wordno)):\n",
    "    if len(wordno[i])>1:\n",
    "        print (wordno[i])\n",
    "    \n",
    "#len(wordno[1])\n",
    "#letterinwords=[wordno]\n",
    "#print(letterinwords)\n"
   ]
  },
  {
   "cell_type": "code",
   "execution_count": 5,
   "metadata": {},
   "outputs": [
    {
     "data": {
      "text/plain": [
       "['this should']"
      ]
     },
     "execution_count": 5,
     "metadata": {},
     "output_type": "execute_result"
    }
   ],
   "source": [
    "def filter_long_words(words, n):\n",
    "    return filter(lambda x: len(x) > n, words)\n",
    "\n",
    "\n",
    "list(filter_long_words(['test', 'not', 'this should'], 5))\n"
   ]
  },
  {
   "cell_type": "code",
   "execution_count": 5,
   "metadata": {},
   "outputs": [
    {
     "data": {
      "text/plain": [
       "4"
      ]
     },
     "execution_count": 5,
     "metadata": {},
     "output_type": "execute_result"
    }
   ],
   "source": [
    "len('name')"
   ]
  },
  {
   "cell_type": "code",
   "execution_count": 60,
   "metadata": {},
   "outputs": [],
   "source": [
    "def filterlongwords(sentence,m):\n",
    "    print(len(sentence))\n",
    "    a=len(sentence)\n",
    "    new1=[]\n",
    "    for j in sentence:\n",
    "        for i in range(0,a):\n",
    "            if len(sentence[i])>m:\n",
    "                new1.append(j)\n",
    "    print(new1)\n",
    "                #return sentence[i]"
   ]
  },
  {
   "cell_type": "code",
   "execution_count": 61,
   "metadata": {},
   "outputs": [
    {
     "name": "stdout",
     "output_type": "stream",
     "text": [
      "5\n",
      "['this', 'this', 'this', 'is', 'is', 'is', 'my', 'my', 'my', 'name', 'name', 'name', 'sentence', 'sentence', 'sentence']\n"
     ]
    }
   ],
   "source": [
    "filterlongwords(['this', 'is', 'my','name', 'sentence'],3)"
   ]
  },
  {
   "cell_type": "code",
   "execution_count": 9,
   "metadata": {},
   "outputs": [],
   "source": [
    "def filter_longwords(sentence,m):\n",
    "    new33=[]\n",
    "    for i in range(len(sentence)):\n",
    "        if len(sentence[i])>m:\n",
    "            new33.append(sentence[i])\n",
    "       \n",
    "    print(new33)\n"
   ]
  },
  {
   "cell_type": "code",
   "execution_count": 13,
   "metadata": {},
   "outputs": [
    {
     "name": "stdout",
     "output_type": "stream",
     "text": [
      "['this', 'name', 'sentence']\n"
     ]
    }
   ],
   "source": [
    "filter_longwords(['this', 'is', 'my','the','name', 'sentence'],3)"
   ]
  },
  {
   "cell_type": "code",
   "execution_count": null,
   "metadata": {},
   "outputs": [],
   "source": []
  },
  {
   "cell_type": "code",
   "execution_count": 1,
   "metadata": {},
   "outputs": [
    {
     "data": {
      "text/plain": [
       "'2.1 Write a Python program using function concept that maps list of words into a list of integers\\nrepresenting the lengths of the corresponding words.\\nHint: If a list [ ab,cde,erty] is passed on to the python function output should come as [2,3,4]\\nHere 2,3 and 4 are the lengths of the words in the list.'"
      ]
     },
     "execution_count": 1,
     "metadata": {},
     "output_type": "execute_result"
    }
   ],
   "source": [
    "\"\"\"2.1 Write a Python program using function concept that maps list of words into a list of integers\n",
    "representing the lengths of the corresponding words.\n",
    "Hint: If a list [ ab,cde,erty] is passed on to the python function output should come as [2,3,4]\n",
    "Here 2,3 and 4 are the lengths of the words in the list.\"\"\""
   ]
  },
  {
   "cell_type": "code",
   "execution_count": 26,
   "metadata": {},
   "outputs": [],
   "source": [
    "newl=['ab','cde','erty', 'bigone','rootd']\n",
    "def numconv(a):\n",
    "    num=[]\n",
    "    for i in range(len(a)):\n",
    "        num.append(len(a[i]))\n",
    "    return num\n"
   ]
  },
  {
   "cell_type": "code",
   "execution_count": 27,
   "metadata": {},
   "outputs": [
    {
     "data": {
      "text/plain": [
       "[2, 3, 4, 6, 5]"
      ]
     },
     "execution_count": 27,
     "metadata": {},
     "output_type": "execute_result"
    }
   ],
   "source": [
    "list(numconv(newl))"
   ]
  },
  {
   "cell_type": "code",
   "execution_count": null,
   "metadata": {},
   "outputs": [],
   "source": []
  },
  {
   "cell_type": "code",
   "execution_count": 29,
   "metadata": {},
   "outputs": [
    {
     "data": {
      "text/plain": [
       "[2, 3, 4, 6, 5]"
      ]
     },
     "execution_count": 29,
     "metadata": {},
     "output_type": "execute_result"
    }
   ],
   "source": [
    "list(map(lambda x: len(x) , newl))"
   ]
  },
  {
   "cell_type": "code",
   "execution_count": null,
   "metadata": {},
   "outputs": [],
   "source": []
  },
  {
   "cell_type": "code",
   "execution_count": 30,
   "metadata": {},
   "outputs": [
    {
     "data": {
      "text/plain": [
       "'2.2 Write a Python function which takes a character (i.e. a string of length 1) and returns True if\\nit is a vowel, False otherwise.'"
      ]
     },
     "execution_count": 30,
     "metadata": {},
     "output_type": "execute_result"
    }
   ],
   "source": [
    "\"\"\"2.2 Write a Python function which takes a character (i.e. a string of length 1) and returns True if\n",
    "it is a vowel, False otherwise.\"\"\""
   ]
  },
  {
   "cell_type": "code",
   "execution_count": 51,
   "metadata": {},
   "outputs": [],
   "source": [
    "vow=['a','e','i','o','u','A','E','I','O','U']"
   ]
  },
  {
   "cell_type": "code",
   "execution_count": 70,
   "metadata": {},
   "outputs": [],
   "source": [
    "def vowel(s):\n",
    "    \n",
    "    if len(s)>1:\n",
    "        print(\"please give a single letter only.Try again\")\n",
    "        \n",
    "    elif s in vow:\n",
    "        return True\n",
    "    else: \n",
    "        return False"
   ]
  },
  {
   "cell_type": "code",
   "execution_count": 71,
   "metadata": {},
   "outputs": [
    {
     "name": "stdout",
     "output_type": "stream",
     "text": [
      "please give a single letter only.Try again\n"
     ]
    }
   ],
   "source": [
    "vowel('bb')"
   ]
  },
  {
   "cell_type": "code",
   "execution_count": 44,
   "metadata": {},
   "outputs": [
    {
     "name": "stdout",
     "output_type": "stream",
     "text": [
      "True\n"
     ]
    }
   ],
   "source": [
    "if 'a'in vow:\n",
    "    print(\"True\")"
   ]
  },
  {
   "cell_type": "code",
   "execution_count": 84,
   "metadata": {},
   "outputs": [
    {
     "ename": "NameError",
     "evalue": "name 'reduce' is not defined",
     "output_type": "error",
     "traceback": [
      "\u001b[1;31m---------------------------------------------------------------------------\u001b[0m",
      "\u001b[1;31mNameError\u001b[0m                                 Traceback (most recent call last)",
      "\u001b[1;32m<ipython-input-84-7757273377dd>\u001b[0m in \u001b[0;36m<module>\u001b[1;34m\u001b[0m\n\u001b[1;32m----> 1\u001b[1;33m \u001b[0mreduce\u001b[0m\u001b[1;33m(\u001b[0m\u001b[1;32mlambda\u001b[0m \u001b[0mx\u001b[0m\u001b[1;33m:\u001b[0m \u001b[0mx\u001b[0m \u001b[1;32min\u001b[0m \u001b[0mvow\u001b[0m \u001b[1;33m,\u001b[0m \u001b[1;34m's'\u001b[0m\u001b[1;33m)\u001b[0m\u001b[1;33m\u001b[0m\u001b[1;33m\u001b[0m\u001b[0m\n\u001b[0m",
      "\u001b[1;31mNameError\u001b[0m: name 'reduce' is not defined"
     ]
    }
   ],
   "source": [
    "reduce(lambda x: x in vow , 's')"
   ]
  },
  {
   "cell_type": "code",
   "execution_count": null,
   "metadata": {},
   "outputs": [],
   "source": []
  },
  {
   "cell_type": "code",
   "execution_count": null,
   "metadata": {},
   "outputs": [],
   "source": []
  }
 ],
 "metadata": {
  "kernelspec": {
   "display_name": "Python 3",
   "language": "python",
   "name": "python3"
  },
  "language_info": {
   "codemirror_mode": {
    "name": "ipython",
    "version": 3
   },
   "file_extension": ".py",
   "mimetype": "text/x-python",
   "name": "python",
   "nbconvert_exporter": "python",
   "pygments_lexer": "ipython3",
   "version": "3.7.6"
  }
 },
 "nbformat": 4,
 "nbformat_minor": 4
}
