{
 "cells": [
  {
   "cell_type": "code",
   "execution_count": 2,
   "metadata": {},
   "outputs": [
    {
     "name": "stdout",
     "output_type": "stream",
     "text": [
      " \n",
      "\n",
      "* \n",
      "\n",
      "** \n",
      "\n",
      "*** \n",
      "\n",
      "**** \n",
      "\n",
      "***** \n",
      "\n",
      "**** \n",
      "\n",
      "*** \n",
      "\n",
      "** \n",
      "\n",
      "* \n",
      "\n"
     ]
    }
   ],
   "source": [
    "for i in range(0,7):\n",
    "    if i<5:\n",
    "        print(i*'*','\\n')\n",
    "        i+=1\n",
    "    elif i>5:\n",
    "        for a in range(5,0,-1): \n",
    "            print (a*'*','\\n')\n",
    "            "
   ]
  },
  {
   "cell_type": "code",
   "execution_count": 5,
   "metadata": {},
   "outputs": [
    {
     "name": "stdout",
     "output_type": "stream",
     "text": [
      "* \n",
      "\n",
      "* * \n",
      "\n",
      "* * * \n",
      "\n",
      "* * * * \n",
      "\n",
      "* * * * * \n",
      "\n",
      "* * * * \n",
      "\n",
      "* * * \n",
      "\n",
      "* * \n",
      "\n",
      "* \n",
      "\n"
     ]
    }
   ],
   "source": [
    "\n",
    "for i in range(0,9):\n",
    "    if(i <= 4):\n",
    "        for j in range(0,i+1):\n",
    "            print(\"*\", end=\" \")\n",
    "        print(\"\\n\")\n",
    "    else:\n",
    "        for j in range(i,9):\n",
    "            #print (i,j,end=\" \")\n",
    "            print(\"*\", end=\" \")\n",
    "        print(\"\\n\")\n"
   ]
  },
  {
   "cell_type": "code",
   "execution_count": 14,
   "metadata": {},
   "outputs": [
    {
     "name": "stdout",
     "output_type": "stream",
     "text": [
      "* \n",
      "\n",
      "* * \n",
      "\n",
      "* * * \n",
      "\n",
      "* * * * \n",
      "\n",
      "* * * * * \n",
      "\n",
      "* * * * \n",
      "\n",
      "\n",
      "* * * \n",
      "\n",
      "\n",
      "* * \n",
      "\n",
      "\n",
      "* \n",
      "\n",
      "\n"
     ]
    }
   ],
   "source": [
    "for i in range(0,7):\n",
    "    if i<5:\n",
    "        for x in range(0,i+1):\n",
    "            print(\"*\", end=\" \")\n",
    "            #print(i, x,end=\" \")\n",
    "        print('\\n')    \n",
    "    else:\n",
    "        for a in range(4,0,-1): \n",
    "             \n",
    "            print (a*'* ')   \n",
    "            print('\\n')\n",
    "        break    "
   ]
  },
  {
   "cell_type": "code",
   "execution_count": 19,
   "metadata": {},
   "outputs": [],
   "source": [
    "# Write a Python program to reverse a word after accepting the input from the user."
   ]
  },
  {
   "cell_type": "code",
   "execution_count": 23,
   "metadata": {},
   "outputs": [
    {
     "name": "stdout",
     "output_type": "stream",
     "text": [
      "Whats your name?: rohan\n",
      "the reverse of your name rohan is\n",
      "['n', 'a', 'h', 'o', 'r']\n"
     ]
    }
   ],
   "source": [
    "a=input(\"Whats your name?: \")\n",
    "name=list(a)\n",
    "reverse=name[::-1]\n",
    "print(\"the reverse of your name {} is\".format(a))\n",
    "print(reverse)"
   ]
  },
  {
   "cell_type": "code",
   "execution_count": null,
   "metadata": {},
   "outputs": [],
   "source": []
  }
 ],
 "metadata": {
  "kernelspec": {
   "display_name": "Python 3",
   "language": "python",
   "name": "python3"
  },
  "language_info": {
   "codemirror_mode": {
    "name": "ipython",
    "version": 3
   },
   "file_extension": ".py",
   "mimetype": "text/x-python",
   "name": "python",
   "nbconvert_exporter": "python",
   "pygments_lexer": "ipython3",
   "version": "3.7.6"
  }
 },
 "nbformat": 4,
 "nbformat_minor": 4
}
