{
 "cells": [
  {
   "cell_type": "markdown",
   "metadata": {},
   "source": [
    "# Assignment 1: Python basics- Rohan B Mohan MLD 6 - 17th June"
   ]
  },
  {
   "cell_type": "markdown",
   "metadata": {},
   "source": [
    "### Question 1 Write a program which will find all such numbers which are divisible by 7 but are not a multiple of 5, between 2000 and 3200 (both included). The numbers obtained should be printed in a comma-separated sequence on a single line."
   ]
  },
  {
   "cell_type": "code",
   "execution_count": 2,
   "metadata": {},
   "outputs": [],
   "source": [
    "Seven_five=list(range(2000,3201))"
   ]
  },
  {
   "cell_type": "code",
   "execution_count": 3,
   "metadata": {},
   "outputs": [
    {
     "name": "stdout",
     "output_type": "stream",
     "text": [
      "[2002, 2009, 2016, 2023, 2037, 2044, 2051, 2058, 2072, 2079, 2086, 2093, 2107, 2114, 2121, 2128, 2142, 2149, 2156, 2163, 2177, 2184, 2191, 2198, 2212, 2219, 2226, 2233, 2247, 2254, 2261, 2268, 2282, 2289, 2296, 2303, 2317, 2324, 2331, 2338, 2352, 2359, 2366, 2373, 2387, 2394, 2401, 2408, 2422, 2429, 2436, 2443, 2457, 2464, 2471, 2478, 2492, 2499, 2506, 2513, 2527, 2534, 2541, 2548, 2562, 2569, 2576, 2583, 2597, 2604, 2611, 2618, 2632, 2639, 2646, 2653, 2667, 2674, 2681, 2688, 2702, 2709, 2716, 2723, 2737, 2744, 2751, 2758, 2772, 2779, 2786, 2793, 2807, 2814, 2821, 2828, 2842, 2849, 2856, 2863, 2877, 2884, 2891, 2898, 2912, 2919, 2926, 2933, 2947, 2954, 2961, 2968, 2982, 2989, 2996, 3003, 3017, 3024, 3031, 3038, 3052, 3059, 3066, 3073, 3087, 3094, 3101, 3108, 3122, 3129, 3136, 3143, 3157, 3164, 3171, 3178, 3192, 3199]\n"
     ]
    }
   ],
   "source": [
    "final= []\n",
    "for i in Seven_five:\n",
    "    if i%7==0 and i%5!=0:\n",
    "        final.append(i)\n",
    "        i+=i\n",
    "    else: \n",
    "        i+=i\n",
    "print(final)"
   ]
  },
  {
   "cell_type": "markdown",
   "metadata": {},
   "source": [
    "### Question 2 Write a Python program to accept the user's first and last name and then getting them printed in the the reverse order with a space between first name and last name. "
   ]
  },
  {
   "cell_type": "code",
   "execution_count": 3,
   "metadata": {},
   "outputs": [],
   "source": []
  },
  {
   "cell_type": "code",
   "execution_count": 3,
   "metadata": {},
   "outputs": [
    {
     "name": "stdout",
     "output_type": "stream",
     "text": [
      "Please Enter your First Name: rohan\n",
      "Your 1st name is rohan\n",
      "Please Enter your Last Name: mohan\n",
      "Your Surname is mohan\n",
      "Your full name is rohan mohan\n",
      "the reverse of your name is mohan rohan\n",
      "['r', 'o', 'h', 'a', 'n', ' ', 'm', 'o', 'h', 'a', 'n']\n"
     ]
    },
    {
     "data": {
      "text/plain": [
       "['n', 'a', 'h', 'o', 'm', ' ', 'n', 'a', 'h', 'o', 'r']"
      ]
     },
     "execution_count": 3,
     "metadata": {},
     "output_type": "execute_result"
    }
   ],
   "source": [
    "captcha1= input(\"Please Enter your First Name: \")\n",
    "print(\"Your 1st name is {}\".format(captcha1) ) \n",
    "\n",
    "captcha2= input(\"Please Enter your Last Name: \")\n",
    "print(\"Your Surname is {}\".format(captcha2) ) \n",
    "\n",
    "print(\"Your full name is \" + captcha1 +\" \" + captcha2)\n",
    "print(\"the reverse of your name is \"+ captcha2 +\" \" + captcha1)\n",
    "Full_name=list(captcha1+\" \"+captcha2)\n",
    "print(Full_name)\n",
    "Full_name[::-1]"
   ]
  },
  {
   "cell_type": "code",
   "execution_count": null,
   "metadata": {},
   "outputs": [],
   "source": []
  },
  {
   "cell_type": "markdown",
   "metadata": {},
   "source": [
    "### Question 3 Write a Python program to find the volume of a sphere with diameter 12 cm. Formula: V=4/3 * π * r 3"
   ]
  },
  {
   "cell_type": "code",
   "execution_count": 46,
   "metadata": {},
   "outputs": [
    {
     "name": "stdout",
     "output_type": "stream",
     "text": [
      "Volume of Sphere is 905.142857142857\n"
     ]
    }
   ],
   "source": [
    "diameter=12\n",
    "pi_val= 22/7\n",
    "radius= diameter/2\n",
    "constant=4/3\n",
    "Volume=constant*pi_val*(radius**3)\n",
    "print(\"Volume of Sphere is {}\".format(Volume))"
   ]
  },
  {
   "cell_type": "code",
   "execution_count": null,
   "metadata": {},
   "outputs": [],
   "source": []
  }
 ],
 "metadata": {
  "kernelspec": {
   "display_name": "Python 3",
   "language": "python",
   "name": "python3"
  },
  "language_info": {
   "codemirror_mode": {
    "name": "ipython",
    "version": 3
   },
   "file_extension": ".py",
   "mimetype": "text/x-python",
   "name": "python",
   "nbconvert_exporter": "python",
   "pygments_lexer": "ipython3",
   "version": "3.7.6"
  }
 },
 "nbformat": 4,
 "nbformat_minor": 4
}
